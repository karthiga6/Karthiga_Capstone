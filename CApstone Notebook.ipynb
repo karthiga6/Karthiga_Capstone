{
    "cells": [
        {
            "metadata": {
                "collapsed": true
            },
            "cell_type": "markdown",
            "source": "# Capstone Project - The Battle of the Neighbourhoods"
        },
        {
            "metadata": {},
            "cell_type": "markdown",
            "source": "#### The Brazillian Restaurant in New York"
        },
        {
            "metadata": {},
            "cell_type": "raw",
            "source": "Data sources and usage:\nThe predominant data source comes from the NYC Open Data page and can be found below:\nttps://data.cityofnewyork.us/Public-Safety/NYPD-Motor-Vehicle-Collisions/h9gi-nx95 - Vehicle collisions range from 2012 to 2019 and list the location coordinates (longitude and latitude) as well as the contributing factors from both vehicles in the collision.\n1) The data will be cleaned, analysed and presented as a chart which shows the borough with the least amount of collisions.\n2) The contributing factors will be presented as a word cloud to have an overview of the factors responsible for the collisions.\n3) Time permitting, an optional analysis would be conducted on the biggest contributing factors to get an in-depth look in the fabric of societal, social and economic issues which were responsible for the contributing factors\nThe second source of data is also freely available from NYU. It gives the names of neighborhoods in New York City and can be found below:"
        },
        {
            "metadata": {},
            "cell_type": "markdown",
            "source": "https://geo.nyu.edu/catalog/nyu_2451_34572\nFoursquare location data about restaurants in neighborhoods will be essential to determine which cuisines already exist in different boroughs. This will be used by the stakeholder to make new recipes."
        },
        {
            "metadata": {},
            "cell_type": "code",
            "source": "",
            "execution_count": null,
            "outputs": []
        }
    ],
    "metadata": {
        "kernelspec": {
            "name": "python3",
            "display_name": "Python 3.6",
            "language": "python"
        },
        "language_info": {
            "name": "python",
            "version": "3.6.9",
            "mimetype": "text/x-python",
            "codemirror_mode": {
                "name": "ipython",
                "version": 3
            },
            "pygments_lexer": "ipython3",
            "nbconvert_exporter": "python",
            "file_extension": ".py"
        }
    },
    "nbformat": 4,
    "nbformat_minor": 1
}