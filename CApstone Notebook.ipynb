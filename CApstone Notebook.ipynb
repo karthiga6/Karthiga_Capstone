{
    "cells": [
        {
            "cell_type": "markdown",
            "metadata": {
                "collapsed": true
            },
            "source": "# Capstone Project - The Battle of the Neighbourhoods"
        },
        {
            "cell_type": "markdown",
            "metadata": {},
            "source": "#### The Brazillian Restaurant in New York"
        },
        {
            "cell_type": "markdown",
            "metadata": {},
            "source": "###### Data sources and usage:\nThe predominant data source comes from the NYC Open Data page and can be found below:\nttps://data.cityofnewyork.us/Public-Safety/NYPD-Motor-Vehicle-Collisions/h9gi-nx95 - Vehicle collisions range from 2012 to 2019 and list the location coordinates (longitude and latitude) as well as the contributing factors from both vehicles in the collision.\n\n"
        },
        {
            "cell_type": "markdown",
            "metadata": {},
            "source": "1.The data will be cleaned, analysed and presented as a chart which shows the borough with the least amount of collisions.  \n2.The contributing factors will be presented as a word cloud to have an overview of the factors responsible for the collisions.  \n3.Time permitting, an optional analysis would be conducted on the biggest contributing factors to get an in-depth look in the fabric of societal, social and economic issues which were responsible for the contributing factors."
        },
        {
            "cell_type": "markdown",
            "metadata": {},
            "source": "The second source of data is also freely available from NYU. It gives the names of neighborhoods in New York City and can be found below:"
        },
        {
            "cell_type": "markdown",
            "metadata": {},
            "source": "https://geo.nyu.edu/catalog/nyu_2451_34572  \nFoursquare location data about restaurants in neighborhoods will be essential to determine which cuisines already exist in different boroughs. This will be used by the stakeholder to make new recipes."
        },
        {
            "cell_type": "code",
            "execution_count": null,
            "metadata": {},
            "outputs": [],
            "source": ""
        }
    ],
    "metadata": {
        "kernelspec": {
            "display_name": "Python 3.6",
            "language": "python",
            "name": "python3"
        },
        "language_info": {
            "codemirror_mode": {
                "name": "ipython",
                "version": 3
            },
            "file_extension": ".py",
            "mimetype": "text/x-python",
            "name": "python",
            "nbconvert_exporter": "python",
            "pygments_lexer": "ipython3",
            "version": "3.6.9"
        }
    },
    "nbformat": 4,
    "nbformat_minor": 1
}